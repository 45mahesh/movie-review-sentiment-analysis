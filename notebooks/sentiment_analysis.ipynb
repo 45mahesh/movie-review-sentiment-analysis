{
 "cells": [
  {
   "cell_type": "code",
   "execution_count": 2,
   "metadata": {},
   "outputs": [
    {
     "name": "stdout",
     "output_type": "stream",
     "text": [
      "Note: you may need to restart the kernel to use updated packages.\n"
     ]
    },
    {
     "name": "stderr",
     "output_type": "stream",
     "text": [
      "ERROR: Could not open requirements file: [Errno 2] No such file or directory: 'requirements.txt'\n",
      "\n",
      "[notice] A new release of pip is available: 23.2.1 -> 25.2\n",
      "[notice] To update, run: python.exe -m pip install --upgrade pip\n"
     ]
    }
   ],
   "source": [
    "pip install -r requirements.txt"
   ]
  },
  {
   "cell_type": "code",
   "execution_count": 3,
   "metadata": {},
   "outputs": [
    {
     "name": "stdout",
     "output_type": "stream",
     "text": [
      "Collecting nltk\n",
      "  Obtaining dependency information for nltk from https://files.pythonhosted.org/packages/4d/66/7d9e26593edda06e8cb531874633f7c2372279c3b0f46235539fe546df8b/nltk-3.9.1-py3-none-any.whl.metadata\n",
      "  Downloading nltk-3.9.1-py3-none-any.whl.metadata (2.9 kB)\n",
      "Collecting click (from nltk)\n",
      "  Obtaining dependency information for click from https://files.pythonhosted.org/packages/db/d3/9dcc0f5797f070ec8edf30fbadfb200e71d9db6b84d211e3b2085a7589a0/click-8.3.0-py3-none-any.whl.metadata\n",
      "  Downloading click-8.3.0-py3-none-any.whl.metadata (2.6 kB)\n",
      "Requirement already satisfied: joblib in c:\\users\\administrator\\appdata\\local\\programs\\python\\python312\\lib\\site-packages (from nltk) (1.4.2)\n",
      "Requirement already satisfied: regex>=2021.8.3 in c:\\users\\administrator\\appdata\\local\\programs\\python\\python312\\lib\\site-packages (from nltk) (2024.11.6)\n",
      "Requirement already satisfied: tqdm in c:\\users\\administrator\\appdata\\local\\programs\\python\\python312\\lib\\site-packages (from nltk) (4.67.1)\n",
      "Requirement already satisfied: colorama in c:\\users\\administrator\\appdata\\roaming\\python\\python312\\site-packages (from click->nltk) (0.4.6)\n",
      "Downloading nltk-3.9.1-py3-none-any.whl (1.5 MB)\n",
      "   ---------------------------------------- 0.0/1.5 MB ? eta -:--:--\n",
      "   ---------------------------------------- 0.0/1.5 MB ? eta -:--:--\n",
      "   ---------------------------------------- 0.0/1.5 MB ? eta -:--:--\n",
      "   ---------------------------------------- 0.0/1.5 MB ? eta -:--:--\n",
      "   ---------------------------------------- 0.0/1.5 MB ? eta -:--:--\n",
      "   ---------------------------------------- 0.0/1.5 MB ? eta -:--:--\n",
      "   ---------------------------------------- 0.0/1.5 MB ? eta -:--:--\n",
      "   ---------------------------------------- 0.0/1.5 MB ? eta -:--:--\n",
      "   ---------------------------------------- 0.0/1.5 MB ? eta -:--:--\n",
      "    --------------------------------------- 0.0/1.5 MB 81.9 kB/s eta 0:00:19\n",
      "    --------------------------------------- 0.0/1.5 MB 81.9 kB/s eta 0:00:19\n",
      "   - -------------------------------------- 0.0/1.5 MB 122.9 kB/s eta 0:00:12\n",
      "   - -------------------------------------- 0.0/1.5 MB 122.9 kB/s eta 0:00:12\n",
      "   - -------------------------------------- 0.0/1.5 MB 122.9 kB/s eta 0:00:12\n",
      "   - -------------------------------------- 0.1/1.5 MB 136.5 kB/s eta 0:00:11\n",
      "   - -------------------------------------- 0.1/1.5 MB 136.5 kB/s eta 0:00:11\n",
      "   - -------------------------------------- 0.1/1.5 MB 136.5 kB/s eta 0:00:11\n",
      "   -- ------------------------------------- 0.1/1.5 MB 204.8 kB/s eta 0:00:07\n",
      "   -- ------------------------------------- 0.1/1.5 MB 204.8 kB/s eta 0:00:07\n",
      "   --- ------------------------------------ 0.1/1.5 MB 213.0 kB/s eta 0:00:07\n",
      "   --- ------------------------------------ 0.1/1.5 MB 213.0 kB/s eta 0:00:07\n",
      "   --- ------------------------------------ 0.1/1.5 MB 213.0 kB/s eta 0:00:07\n",
      "   ----- ---------------------------------- 0.2/1.5 MB 245.8 kB/s eta 0:00:06\n",
      "   ----- ---------------------------------- 0.2/1.5 MB 245.8 kB/s eta 0:00:06\n",
      "   ----- ---------------------------------- 0.2/1.5 MB 245.8 kB/s eta 0:00:06\n",
      "   -------- ------------------------------- 0.3/1.5 MB 333.3 kB/s eta 0:00:04\n",
      "   -------- ------------------------------- 0.3/1.5 MB 333.3 kB/s eta 0:00:04\n",
      "   --------- ------------------------------ 0.4/1.5 MB 348.2 kB/s eta 0:00:04\n",
      "   --------- ------------------------------ 0.4/1.5 MB 348.2 kB/s eta 0:00:04\n",
      "   --------- ------------------------------ 0.4/1.5 MB 348.2 kB/s eta 0:00:04\n",
      "   ---------- ----------------------------- 0.4/1.5 MB 336.8 kB/s eta 0:00:04\n",
      "   ---------- ----------------------------- 0.4/1.5 MB 336.8 kB/s eta 0:00:04\n",
      "   ---------- ----------------------------- 0.4/1.5 MB 336.8 kB/s eta 0:00:04\n",
      "   ------------ --------------------------- 0.5/1.5 MB 364.0 kB/s eta 0:00:03\n",
      "   ------------ --------------------------- 0.5/1.5 MB 364.0 kB/s eta 0:00:03\n",
      "   ------------- -------------------------- 0.5/1.5 MB 372.4 kB/s eta 0:00:03\n",
      "   ------------- -------------------------- 0.5/1.5 MB 372.4 kB/s eta 0:00:03\n",
      "   ---------------- ----------------------- 0.6/1.5 MB 412.0 kB/s eta 0:00:03\n",
      "   ----------------- ---------------------- 0.7/1.5 MB 427.8 kB/s eta 0:00:02\n",
      "   ----------------- ---------------------- 0.7/1.5 MB 427.8 kB/s eta 0:00:02\n",
      "   ------------------- -------------------- 0.7/1.5 MB 449.3 kB/s eta 0:00:02\n",
      "   ------------------- -------------------- 0.7/1.5 MB 449.3 kB/s eta 0:00:02\n",
      "   ----------------------- ---------------- 0.9/1.5 MB 485.7 kB/s eta 0:00:02\n",
      "   ----------------------- ---------------- 0.9/1.5 MB 485.7 kB/s eta 0:00:02\n",
      "   ------------------------- -------------- 1.0/1.5 MB 504.8 kB/s eta 0:00:02\n",
      "   ------------------------- -------------- 1.0/1.5 MB 504.8 kB/s eta 0:00:02\n",
      "   ------------------------- -------------- 1.0/1.5 MB 504.8 kB/s eta 0:00:02\n",
      "   ----------------------------- ---------- 1.1/1.5 MB 530.3 kB/s eta 0:00:01\n",
      "   ----------------------------- ---------- 1.1/1.5 MB 530.3 kB/s eta 0:00:01\n",
      "   ------------------------------- -------- 1.2/1.5 MB 537.5 kB/s eta 0:00:01\n",
      "   ------------------------------- -------- 1.2/1.5 MB 537.5 kB/s eta 0:00:01\n",
      "   ------------------------------- -------- 1.2/1.5 MB 537.5 kB/s eta 0:00:01\n",
      "   ------------------------------------ --- 1.4/1.5 MB 580.4 kB/s eta 0:00:01\n",
      "   ------------------------------------- -- 1.4/1.5 MB 579.2 kB/s eta 0:00:01\n",
      "   ------------------------------------- -- 1.4/1.5 MB 579.2 kB/s eta 0:00:01\n",
      "   ------------------------------------- -- 1.4/1.5 MB 579.2 kB/s eta 0:00:01\n",
      "   ---------------------------------------  1.5/1.5 MB 583.3 kB/s eta 0:00:01\n",
      "   ---------------------------------------  1.5/1.5 MB 583.3 kB/s eta 0:00:01\n",
      "   ---------------------------------------  1.5/1.5 MB 583.3 kB/s eta 0:00:01\n",
      "   ---------------------------------------- 1.5/1.5 MB 556.2 kB/s eta 0:00:00\n",
      "Downloading click-8.3.0-py3-none-any.whl (107 kB)\n",
      "   ---------------------------------------- 0.0/107.3 kB ? eta -:--:--\n",
      "   --- ------------------------------------ 10.2/107.3 kB ? eta -:--:--\n",
      "   --- ------------------------------------ 10.2/107.3 kB ? eta -:--:--\n",
      "   --- ------------------------------------ 10.2/107.3 kB ? eta -:--:--\n",
      "   --- ------------------------------------ 10.2/107.3 kB ? eta -:--:--\n",
      "   --- ------------------------------------ 10.2/107.3 kB ? eta -:--:--\n",
      "   -------------- ------------------------ 41.0/107.3 kB 108.9 kB/s eta 0:00:01\n",
      "   -------------- ------------------------ 41.0/107.3 kB 108.9 kB/s eta 0:00:01\n",
      "   ------------------------------------ - 102.4/107.3 kB 226.4 kB/s eta 0:00:01\n",
      "   -------------------------------------- 107.3/107.3 kB 221.6 kB/s eta 0:00:00\n",
      "Installing collected packages: click, nltk\n",
      "Successfully installed click-8.3.0 nltk-3.9.1\n",
      "Note: you may need to restart the kernel to use updated packages.\n"
     ]
    },
    {
     "name": "stderr",
     "output_type": "stream",
     "text": [
      "\n",
      "[notice] A new release of pip is available: 23.2.1 -> 25.2\n",
      "[notice] To update, run: python.exe -m pip install --upgrade pip\n"
     ]
    }
   ],
   "source": [
    "pip install nltk"
   ]
  },
  {
   "cell_type": "code",
   "execution_count": 2,
   "metadata": {},
   "outputs": [
    {
     "name": "stderr",
     "output_type": "stream",
     "text": [
      "[nltk_data] Downloading package stopwords to\n",
      "[nltk_data]     C:\\Users\\Administrator\\AppData\\Roaming\\nltk_data...\n",
      "[nltk_data]   Package stopwords is already up-to-date!\n"
     ]
    },
    {
     "name": "stdout",
     "output_type": "stream",
     "text": [
      "Accuracy: 0.8531\n",
      "\n",
      "Classification Report:\n",
      "               precision    recall  f1-score   support\n",
      "\n",
      "           0       0.85      0.86      0.85      4961\n",
      "           1       0.86      0.85      0.85      5039\n",
      "\n",
      "    accuracy                           0.85     10000\n",
      "   macro avg       0.85      0.85      0.85     10000\n",
      "weighted avg       0.85      0.85      0.85     10000\n",
      "\n"
     ]
    },
    {
     "data": {
      "image/png": "[encoded data removed]",
      "text/plain": [
       "<Figure size 640x480 with 2 Axes>"
      ]
     },
     "metadata": {},
     "output_type": "display_data"
    }
   ],
   "source": [
    "# Import libraries\n",
    "import pandas as pd\n",
    "import numpy as np\n",
    "import matplotlib.pyplot as plt\n",
    "import seaborn as sns\n",
    "\n",
    "from sklearn.model_selection import train_test_split\n",
    "from sklearn.feature_extraction.text import CountVectorizer\n",
    "from sklearn.naive_bayes import MultinomialNB\n",
    "from sklearn.metrics import accuracy_score, confusion_matrix, classification_report\n",
    "import nltk\n",
    "import re\n",
    "from nltk.corpus import stopwords\n",
    "\n",
    "# Download stopwords once (if not already done)\n",
    "nltk.download('stopwords')\n",
    "\n",
    "# Load stopwords once\n",
    "stop_words = set(stopwords.words('english'))\n",
    "\n",
    "# Load data\n",
    "df = pd.read_csv(\"../data/IMDB Dataset.csv\")\n",
    "df.head()\n",
    "\n",
    "# Basic preprocessing\n",
    "def clean_text(text):\n",
    "    text = re.sub('<.*?>', '', text)  # Remove HTML tags\n",
    "    text = re.sub('[^a-zA-Z]', ' ', text)  # Keep only letters\n",
    "    text = text.lower()\n",
    "    words = text.split()\n",
    "    words = [word for word in words if word not in stop_words]\n",
    "    return \" \".join(words)\n",
    "\n",
    "df['clean_review'] = df['review'].apply(clean_text)\n",
    "\n",
    "# Encode labels\n",
    "df['label'] = df['sentiment'].map({'positive': 1, 'negative': 0})\n",
    "\n",
    "# Split data\n",
    "X_train, X_test, y_train, y_test = train_test_split(\n",
    "    df['clean_review'], df['label'], test_size=0.2, random_state=42\n",
    ")\n",
    "\n",
    "# Vectorize text\n",
    "vectorizer = CountVectorizer(max_features=5000)\n",
    "X_train_vec = vectorizer.fit_transform(X_train)\n",
    "X_test_vec = vectorizer.transform(X_test)\n",
    "\n",
    "# Train model\n",
    "model = MultinomialNB()\n",
    "model.fit(X_train_vec, y_train)\n",
    "\n",
    "# Predict\n",
    "y_pred = model.predict(X_test_vec)\n",
    "\n",
    "# Evaluate\n",
    "print(\"Accuracy:\", accuracy_score(y_test, y_pred))\n",
    "print(\"\\nClassification Report:\\n\", classification_report(y_test, y_pred))\n",
    "\n",
    "# Confusion Matrix\n",
    "conf_mat = confusion_matrix(y_test, y_pred)\n",
    "sns.heatmap(conf_mat, annot=True, fmt='d', cmap='Blues')\n",
    "plt.xlabel(\"Predicted\")\n",
    "plt.ylabel(\"Actual\")\n",
    "plt.title(\"Confusion Matrix\")\n",
    "plt.show()\n"
   ]
  },
  {
   "cell_type": "code",
   "execution_count": 5,
   "metadata": {},
   "outputs": [
    {
     "name": "stderr",
     "output_type": "stream",
     "text": [
      "[nltk_data] Downloading package stopwords to\n",
      "[nltk_data]     C:\\Users\\Administrator\\AppData\\Roaming\\nltk_data...\n",
      "[nltk_data]   Package stopwords is already up-to-date!\n"
     ]
    },
    {
     "data": {
      "text/plain": [
       "True"
      ]
     },
     "execution_count": 5,
     "metadata": {},
     "output_type": "execute_result"
    }
   ],
   "source": [
    "import nltk\n",
    "\n",
    "nltk.download('stopwords')\n"
   ]
  },
  {
   "cell_type": "markdown",
   "metadata": {},
   "source": []
  }
 ],
 "metadata": {
  "kernelspec": {
   "display_name": "Python 3",
   "language": "python",
   "name": "python3"
  },
  "language_info": {
   "codemirror_mode": {
    "name": "ipython",
    "version": 3
   },
   "file_extension": ".py",
   "mimetype": "text/x-python",
   "name": "python",
   "nbconvert_exporter": "python",
   "pygments_lexer": "ipython3",
   "version": "3.12.1"
  }
 },
 "nbformat": 4,
 "nbformat_minor": 2
}
